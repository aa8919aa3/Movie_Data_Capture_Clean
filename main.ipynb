{
 "cells": [
  {
   "cell_type": "code",
   "execution_count": 5,
   "metadata": {},
   "outputs": [
    {
     "name": "stderr",
     "output_type": "stream",
     "text": [
      "usage: Movie_Data_Capture Ver. REWRITE-7.0.0 [-h] [-c [CONF_FILE_PATH]]\n",
      "                                             [-s [SEARCH_FOR_NUMBER]]\n",
      "                                             [-f [SPECIFY_FILE]] [-l]\n",
      "                                             [-u SCRAPING_URL SCRAPING_URL]\n",
      "                                             [--with-cover]\n",
      "                                             [--over-config OVER_CONFIG [OVER_CONFIG ...]]\n",
      "                                             [--test] [--rate]\n",
      "Movie_Data_Capture Ver. REWRITE-7.0.0: error: unrecognized arguments: --f=/Users/albert-mac/Library/Jupyter/runtime/kernel-v3c4df4e713b4942948f26fc9b07dd43ddbc92eebc.json\n"
     ]
    },
    {
     "ename": "SystemExit",
     "evalue": "2",
     "output_type": "error",
     "traceback": [
      "An exception has occurred, use %tb to see the full traceback.\n",
      "\u001b[0;31mSystemExit\u001b[0m\u001b[0;31m:\u001b[0m 2\n"
     ]
    }
   ],
   "source": [
    "import os\n",
    "import sys\n",
    "import platform\n",
    "import signal\n",
    "import time\n",
    "import threading\n",
    "\n",
    "import logger\n",
    "import config\n",
    "from config import constant\n",
    "import core.process_control as process_control\n",
    "from utils.event import fire_event\n",
    "\n",
    "def signal_handler(*args):\n",
    "    logger.info(\"Ctrl+C detected! \")\n",
    "\n",
    "    threading.Thread(target=fire_event, args=[\"SIGINT\"]).start()\n",
    "    def a():\n",
    "        wait = 5\n",
    "        for i in range(wait, -1, -1):\n",
    "            logger.info(f\"Exit in {i}...\")\n",
    "            time.sleep(1)\n",
    "        os._exit(0)\n",
    "    threading.Thread(target=a).start()\n",
    "\n",
    "if __name__ == '__main__':\n",
    "    signal.signal(signal.SIGINT, signal_handler)\n",
    "    config.init()\n",
    "\n",
    "    enable_debug = config.getBoolValue(\"common.enable_debug\")\n",
    "    if enable_debug:\n",
    "        logger.enable_debug()\n",
    "\n",
    "    platform_total = str(' - ' + platform.platform() + ' \\n[*] - ' + platform.machine() + ' - Python-' + platform.python_version())\n",
    "    logger.info('================= Movie Data Capture =================')\n",
    "    logger.info(f\"Ver. {constant.G_VERSION}\".center(51))\n",
    "    logger.info('======================================================')\n",
    "    logger.info(platform.platform().center(51))\n",
    "    logger.info(f\"{platform.machine()} - Python - {platform.python_version()}\".center(51))\n",
    "    logger.info(time.strftime('%Y-%m-%d %H:%M:%S',time.localtime(time.time())).center(51))\n",
    "    logger.info('======================================================')\n",
    "    logger.info(f\"CmdLine [{' '.join(sys.argv)}]\")\n",
    "    logger.info('======================================================')\n",
    "    # print('[!]CmdLine:', \" \".join())\n",
    "    # logger.info(' - 请不要在墙内宣传本项目 - ')\n",
    "\n",
    "    # 過濾 Jupyter Notebook 內核參數\n",
    "    sys.argv = [arg for arg in sys.argv if not arg.startswith('--f=')]\n",
    "\n",
    "    process_control.start()\n",
    "    logger.info(\"end.\")\n"
   ]
  },
  {
   "cell_type": "code",
   "execution_count": null,
   "metadata": {},
   "outputs": [],
   "source": []
  }
 ],
 "metadata": {
  "kernelspec": {
   "display_name": "py3.11",
   "language": "python",
   "name": "python3"
  },
  "language_info": {
   "codemirror_mode": {
    "name": "ipython",
    "version": 3
   },
   "file_extension": ".py",
   "mimetype": "text/x-python",
   "name": "python",
   "nbconvert_exporter": "python",
   "pygments_lexer": "ipython3",
   "version": "3.11.8"
  }
 },
 "nbformat": 4,
 "nbformat_minor": 2
}
